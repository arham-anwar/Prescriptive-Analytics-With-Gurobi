{
 "cells": [
  {
   "cell_type": "code",
   "execution_count": 187,
   "id": "90a69b45",
   "metadata": {},
   "outputs": [],
   "source": [
    "import gurobipy as gb\n",
    "from gurobipy import *\n",
    "import numpy as np\n",
    "import pandas as pd"
   ]
  },
  {
   "cell_type": "code",
   "execution_count": 188,
   "id": "5ea2cbbe",
   "metadata": {},
   "outputs": [
    {
     "data": {
      "text/html": [
       "<div>\n",
       "<style scoped>\n",
       "    .dataframe tbody tr th:only-of-type {\n",
       "        vertical-align: middle;\n",
       "    }\n",
       "\n",
       "    .dataframe tbody tr th {\n",
       "        vertical-align: top;\n",
       "    }\n",
       "\n",
       "    .dataframe thead th {\n",
       "        text-align: right;\n",
       "    }\n",
       "</style>\n",
       "<table border=\"1\" class=\"dataframe\">\n",
       "  <thead>\n",
       "    <tr style=\"text-align: right;\">\n",
       "      <th></th>\n",
       "      <th>1</th>\n",
       "      <th>2</th>\n",
       "      <th>3</th>\n",
       "      <th>4</th>\n",
       "      <th>5</th>\n",
       "      <th>6</th>\n",
       "      <th>7</th>\n",
       "      <th>8</th>\n",
       "      <th>9</th>\n",
       "    </tr>\n",
       "  </thead>\n",
       "  <tbody>\n",
       "    <tr>\n",
       "      <th>1</th>\n",
       "      <td>0</td>\n",
       "      <td>45</td>\n",
       "      <td>64</td>\n",
       "      <td>25</td>\n",
       "      <td>60</td>\n",
       "      <td>32</td>\n",
       "      <td>30</td>\n",
       "      <td>70</td>\n",
       "      <td>40</td>\n",
       "    </tr>\n",
       "    <tr>\n",
       "      <th>2</th>\n",
       "      <td>45</td>\n",
       "      <td>0</td>\n",
       "      <td>30</td>\n",
       "      <td>42</td>\n",
       "      <td>48</td>\n",
       "      <td>25</td>\n",
       "      <td>38</td>\n",
       "      <td>50</td>\n",
       "      <td>26</td>\n",
       "    </tr>\n",
       "    <tr>\n",
       "      <th>3</th>\n",
       "      <td>64</td>\n",
       "      <td>30</td>\n",
       "      <td>0</td>\n",
       "      <td>20</td>\n",
       "      <td>50</td>\n",
       "      <td>37</td>\n",
       "      <td>42</td>\n",
       "      <td>50</td>\n",
       "      <td>60</td>\n",
       "    </tr>\n",
       "    <tr>\n",
       "      <th>4</th>\n",
       "      <td>25</td>\n",
       "      <td>42</td>\n",
       "      <td>20</td>\n",
       "      <td>0</td>\n",
       "      <td>24</td>\n",
       "      <td>56</td>\n",
       "      <td>62</td>\n",
       "      <td>27</td>\n",
       "      <td>53</td>\n",
       "    </tr>\n",
       "    <tr>\n",
       "      <th>5</th>\n",
       "      <td>60</td>\n",
       "      <td>48</td>\n",
       "      <td>50</td>\n",
       "      <td>24</td>\n",
       "      <td>0</td>\n",
       "      <td>28</td>\n",
       "      <td>38</td>\n",
       "      <td>46</td>\n",
       "      <td>52</td>\n",
       "    </tr>\n",
       "    <tr>\n",
       "      <th>6</th>\n",
       "      <td>32</td>\n",
       "      <td>25</td>\n",
       "      <td>37</td>\n",
       "      <td>56</td>\n",
       "      <td>28</td>\n",
       "      <td>0</td>\n",
       "      <td>60</td>\n",
       "      <td>49</td>\n",
       "      <td>24</td>\n",
       "    </tr>\n",
       "    <tr>\n",
       "      <th>7</th>\n",
       "      <td>30</td>\n",
       "      <td>38</td>\n",
       "      <td>42</td>\n",
       "      <td>62</td>\n",
       "      <td>38</td>\n",
       "      <td>60</td>\n",
       "      <td>0</td>\n",
       "      <td>64</td>\n",
       "      <td>49</td>\n",
       "    </tr>\n",
       "    <tr>\n",
       "      <th>8</th>\n",
       "      <td>70</td>\n",
       "      <td>50</td>\n",
       "      <td>50</td>\n",
       "      <td>27</td>\n",
       "      <td>46</td>\n",
       "      <td>49</td>\n",
       "      <td>64</td>\n",
       "      <td>0</td>\n",
       "      <td>50</td>\n",
       "    </tr>\n",
       "    <tr>\n",
       "      <th>9</th>\n",
       "      <td>40</td>\n",
       "      <td>26</td>\n",
       "      <td>60</td>\n",
       "      <td>53</td>\n",
       "      <td>52</td>\n",
       "      <td>24</td>\n",
       "      <td>49</td>\n",
       "      <td>50</td>\n",
       "      <td>0</td>\n",
       "    </tr>\n",
       "  </tbody>\n",
       "</table>\n",
       "</div>"
      ],
      "text/plain": [
       "    1   2   3   4   5   6   7   8   9\n",
       "1   0  45  64  25  60  32  30  70  40\n",
       "2  45   0  30  42  48  25  38  50  26\n",
       "3  64  30   0  20  50  37  42  50  60\n",
       "4  25  42  20   0  24  56  62  27  53\n",
       "5  60  48  50  24   0  28  38  46  52\n",
       "6  32  25  37  56  28   0  60  49  24\n",
       "7  30  38  42  62  38  60   0  64  49\n",
       "8  70  50  50  27  46  49  64   0  50\n",
       "9  40  26  60  53  52  24  49  50   0"
      ]
     },
     "execution_count": 188,
     "metadata": {},
     "output_type": "execute_result"
    }
   ],
   "source": [
    "dist = pd.read_excel('/Users/arham/Downloads/TSP_Oct_19/TSP.xlsx', sheet_name='Distances', index_col = 0)\n",
    "dist"
   ]
  },
  {
   "cell_type": "code",
   "execution_count": 189,
   "id": "85c9405c",
   "metadata": {},
   "outputs": [
    {
     "data": {
      "text/plain": [
       "array([[ 0, 45, 64, 25, 60, 32, 30, 70, 40],\n",
       "       [45,  0, 30, 42, 48, 25, 38, 50, 26],\n",
       "       [64, 30,  0, 20, 50, 37, 42, 50, 60],\n",
       "       [25, 42, 20,  0, 24, 56, 62, 27, 53],\n",
       "       [60, 48, 50, 24,  0, 28, 38, 46, 52],\n",
       "       [32, 25, 37, 56, 28,  0, 60, 49, 24],\n",
       "       [30, 38, 42, 62, 38, 60,  0, 64, 49],\n",
       "       [70, 50, 50, 27, 46, 49, 64,  0, 50],\n",
       "       [40, 26, 60, 53, 52, 24, 49, 50,  0]])"
      ]
     },
     "execution_count": 189,
     "metadata": {},
     "output_type": "execute_result"
    }
   ],
   "source": [
    "# cost matrix\n",
    "\n",
    "distances = np.asarray(dist)\n",
    "distances"
   ]
  },
  {
   "cell_type": "code",
   "execution_count": 190,
   "id": "99af40d7",
   "metadata": {},
   "outputs": [],
   "source": [
    "prob = gb.Model(\"TSP\")\n",
    "n = 9"
   ]
  },
  {
   "cell_type": "code",
   "execution_count": 191,
   "id": "c1495e55",
   "metadata": {},
   "outputs": [],
   "source": [
    "U = prob.addVars(n, vtype = GRB.INTEGER,  lb = 1, ub =8, name = [ f\"U{i+1}\" for i in range(n)])\n",
    "X = prob.addVars(n,n, vtype = GRB.BINARY, name = [f\"X{i+1}-{j+1}\" for i in range(n) for j in range(n)])"
   ]
  },
  {
   "cell_type": "code",
   "execution_count": 192,
   "id": "68475eb0",
   "metadata": {},
   "outputs": [],
   "source": [
    "prob.setObjective(sum(distances[i][j]*X[i,j] for i in range(n) for j in range(n)), GRB.MINIMIZE)"
   ]
  },
  {
   "cell_type": "code",
   "execution_count": 193,
   "id": "b5912adb",
   "metadata": {},
   "outputs": [
    {
     "data": {
      "text/plain": [
       "{1: <gurobi.Constr *Awaiting Model Update*>,\n",
       " 2: <gurobi.Constr *Awaiting Model Update*>,\n",
       " 3: <gurobi.Constr *Awaiting Model Update*>,\n",
       " 4: <gurobi.Constr *Awaiting Model Update*>,\n",
       " 5: <gurobi.Constr *Awaiting Model Update*>,\n",
       " 6: <gurobi.Constr *Awaiting Model Update*>,\n",
       " 7: <gurobi.Constr *Awaiting Model Update*>,\n",
       " 8: <gurobi.Constr *Awaiting Model Update*>}"
      ]
     },
     "execution_count": 193,
     "metadata": {},
     "output_type": "execute_result"
    }
   ],
   "source": [
    "for i in range(1,n):\n",
    "    for j in range(1,n):\n",
    "        if(i!=j):\n",
    "            prob.addConstr(U[i]-U[j] + n*X[i,j] <= n-1)\n",
    "\n",
    "\n",
    "prob.addConstrs(sum(X[i,j] for i in range(n)) == 1 for j in range(n) )\n",
    "prob.addConstrs(sum(X[i,j] for j in range(n)) == 1 for i in range(n) )\n",
    "\n",
    "prob.addConstrs(X[i,i] == 0 for i in range(n))\n",
    "prob.addConstrs( U[i] <= n-1 for i in range(1,n))\n",
    "prob.addConstrs( U[i] >= 1 for i in range(1,n))\n"
   ]
  },
  {
   "cell_type": "code",
   "execution_count": 194,
   "id": "700620ee",
   "metadata": {},
   "outputs": [
    {
     "name": "stdout",
     "output_type": "stream",
     "text": [
      "Gurobi Optimizer version 10.0.3 build v10.0.3rc0 (mac64[arm])\n",
      "\n",
      "CPU model: Apple M2\n",
      "Thread count: 8 physical cores, 8 logical processors, using up to 8 threads\n",
      "\n",
      "Optimize a model with 99 rows, 90 columns and 355 nonzeros\n",
      "Model fingerprint: 0x6224a432\n",
      "Variable types: 0 continuous, 90 integer (81 binary)\n",
      "Coefficient statistics:\n",
      "  Matrix range     [1e+00, 9e+00]\n",
      "  Objective range  [2e+01, 7e+01]\n",
      "  Bounds range     [1e+00, 8e+00]\n",
      "  RHS range        [1e+00, 8e+00]\n",
      "Found heuristic solution: objective 404.0000000\n",
      "Presolve removed 25 rows and 10 columns\n",
      "Presolve time: 0.00s\n",
      "Presolved: 74 rows, 80 columns, 312 nonzeros\n",
      "Variable types: 0 continuous, 80 integer (72 binary)\n",
      "\n",
      "Root relaxation: objective 2.610000e+02, 29 iterations, 0.00 seconds (0.00 work units)\n",
      "\n",
      "    Nodes    |    Current Node    |     Objective Bounds      |     Work\n",
      " Expl Unexpl |  Obj  Depth IntInf | Incumbent    BestBd   Gap | It/Node Time\n",
      "\n",
      "     0     0  261.00000    0   14  404.00000  261.00000  35.4%     -    0s\n",
      "H    0     0                     283.0000000  261.00000  7.77%     -    0s\n",
      "     0     0  262.16667    0   15  283.00000  262.16667  7.36%     -    0s\n",
      "H    0     0                     273.0000000  262.16667  3.97%     -    0s\n",
      "     0     0  264.29167    0   14  273.00000  264.29167  3.19%     -    0s\n",
      "     0     0  265.00000    0   20  273.00000  265.00000  2.93%     -    0s\n",
      "     0     0  265.00000    0   14  273.00000  265.00000  2.93%     -    0s\n",
      "     0     0  265.00000    0   19  273.00000  265.00000  2.93%     -    0s\n",
      "\n",
      "Cutting planes:\n",
      "  Gomory: 5\n",
      "  Implied bound: 2\n",
      "  MIR: 11\n",
      "  RLT: 2\n",
      "  Relax-and-lift: 2\n",
      "  PSD: 1\n",
      "\n",
      "Explored 1 nodes (96 simplex iterations) in 0.03 seconds (0.00 work units)\n",
      "Thread count was 8 (of 8 available processors)\n",
      "\n",
      "Solution count 3: 273 283 404 \n",
      "\n",
      "Optimal solution found (tolerance 1.00e-04)\n",
      "Best objective 2.730000000000e+02, best bound 2.730000000000e+02, gap 0.0000%\n"
     ]
    }
   ],
   "source": [
    "prob.optimize()"
   ]
  },
  {
   "cell_type": "code",
   "execution_count": 195,
   "id": "685e9d8d",
   "metadata": {},
   "outputs": [
    {
     "name": "stdout",
     "output_type": "stream",
     "text": [
      "U1 = 1.0\n",
      "U2 = 6.0\n",
      "U3 = 5.0\n",
      "U4 = 4.0\n",
      "U5 = 2.0\n",
      "U6 = 8.0\n",
      "U7 = 1.0\n",
      "U8 = 3.0\n",
      "U9 = 7.0\n",
      "X1-7 = 1.0\n",
      "X2-9 = 1.0\n",
      "X3-2 = 1.0\n",
      "X4-3 = 1.0\n",
      "X5-8 = 1.0\n",
      "X6-1 = 1.0\n",
      "X7-5 = 1.0\n",
      "X8-4 = 1.0\n",
      "X9-6 = 1.0\n"
     ]
    }
   ],
   "source": [
    "for v in prob.getVars():\n",
    "    if v.x > 0:\n",
    "        print(v.varName, \"=\", v.x)"
   ]
  },
  {
   "cell_type": "code",
   "execution_count": 196,
   "id": "20621a74",
   "metadata": {},
   "outputs": [
    {
     "data": {
      "text/plain": [
       "273.0"
      ]
     },
     "execution_count": 196,
     "metadata": {},
     "output_type": "execute_result"
    }
   ],
   "source": [
    "prob.objVal"
   ]
  },
  {
   "cell_type": "code",
   "execution_count": null,
   "id": "ea6066b1",
   "metadata": {},
   "outputs": [],
   "source": []
  }
 ],
 "metadata": {
  "kernelspec": {
   "display_name": "Python 3 (ipykernel)",
   "language": "python",
   "name": "python3"
  },
  "language_info": {
   "codemirror_mode": {
    "name": "ipython",
    "version": 3
   },
   "file_extension": ".py",
   "mimetype": "text/x-python",
   "name": "python",
   "nbconvert_exporter": "python",
   "pygments_lexer": "ipython3",
   "version": "3.10.9"
  }
 },
 "nbformat": 4,
 "nbformat_minor": 5
}
