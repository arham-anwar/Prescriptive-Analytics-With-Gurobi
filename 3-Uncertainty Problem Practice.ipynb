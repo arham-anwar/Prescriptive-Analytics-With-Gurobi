{
 "cells": [
  {
   "cell_type": "markdown",
   "id": "86f7fc8e",
   "metadata": {},
   "source": [
    "Uncertainty is a key factor in business decisions. Innovative business models often\n",
    "propose novel methods to handle the inherent uncertainty in decision making\n",
    "environments. Assume a company produces three products 1, 2, and 3. The\n",
    "following two tables show the “production recipe” and also the demand for each\n",
    "product. The selling prices for products 1, 2, and 3 are $60, $40, and $10,\n",
    "respectively. Notice that the firm cannot sell more than it produces."
   ]
  },
  {
   "cell_type": "code",
   "execution_count": 60,
   "id": "f263469e",
   "metadata": {},
   "outputs": [],
   "source": [
    "# Decision Variables\n",
    "\n",
    "# R1, R2, R3,P1, P2, P3, sl1, sl2 ,sl3, sm1, sm2, sm3, sh1, sh2, sh3\n",
    "\n",
    "#Helper matrices\n",
    "\n",
    "Res1_composition = [8, 6, 1, 2] # p1 ,p2 ,p3, cost\n",
    "Res2_composition = [2, 1.5, 0.5, 5.2] #same as above\n",
    "Res3_composition = [4, 2, 1.5, 4] #same as above\n",
    "Res_composition = [Res1_composition, Res2_composition, Res3_composition]\n",
    "\n",
    "ML = [50, 20, 200]\n",
    "MM = [150, 110, 225]\n",
    "MH = [250, 250, 500]\n",
    "pr = [ 0.3, 0.4, 0.3]\n",
    "\n",
    "sp = [60, 40, 10]\n",
    "\n",
    "\n",
    "\n",
    "dem = [ML, MM, MH]"
   ]
  },
  {
   "cell_type": "markdown",
   "id": "51061744",
   "metadata": {},
   "source": [
    "Assume the firm first acquires resources and produces the products.\n",
    "Afterward, the demand for each product is realized. Formulate an LP to maximize\n",
    "the firm’s (expected) revenues"
   ]
  },
  {
   "cell_type": "code",
   "execution_count": 61,
   "id": "064c3470",
   "metadata": {},
   "outputs": [],
   "source": [
    "# r1 r2 r3\n",
    "\n",
    "\n",
    "# p1 , p2 , p3 maximize with resource constraints\n",
    "\n",
    "\n"
   ]
  },
  {
   "cell_type": "code",
   "execution_count": 62,
   "id": "5ff0beca",
   "metadata": {},
   "outputs": [],
   "source": [
    "import gurobipy as gb\n",
    "from gurobipy import *"
   ]
  },
  {
   "cell_type": "code",
   "execution_count": 63,
   "id": "98b5e387",
   "metadata": {},
   "outputs": [],
   "source": [
    "UBS = gb.Model(\"Postponement as a business strategy\")"
   ]
  },
  {
   "cell_type": "code",
   "execution_count": 64,
   "id": "5a653a44",
   "metadata": {},
   "outputs": [
    {
     "data": {
      "text/plain": [
       "{0: <gurobi.Var *Awaiting Model Update*>,\n",
       " 1: <gurobi.Var *Awaiting Model Update*>,\n",
       " 2: <gurobi.Var *Awaiting Model Update*>,\n",
       " 3: <gurobi.Var *Awaiting Model Update*>,\n",
       " 4: <gurobi.Var *Awaiting Model Update*>,\n",
       " 5: <gurobi.Var *Awaiting Model Update*>,\n",
       " 6: <gurobi.Var *Awaiting Model Update*>,\n",
       " 7: <gurobi.Var *Awaiting Model Update*>,\n",
       " 8: <gurobi.Var *Awaiting Model Update*>,\n",
       " 9: <gurobi.Var *Awaiting Model Update*>,\n",
       " 10: <gurobi.Var *Awaiting Model Update*>,\n",
       " 11: <gurobi.Var *Awaiting Model Update*>,\n",
       " 12: <gurobi.Var *Awaiting Model Update*>,\n",
       " 13: <gurobi.Var *Awaiting Model Update*>,\n",
       " 14: <gurobi.Var *Awaiting Model Update*>}"
      ]
     },
     "execution_count": 64,
     "metadata": {},
     "output_type": "execute_result"
    }
   ],
   "source": [
    "# decision variables \n",
    "\n",
    "X = UBS.addVars(15, lb = 0, vtype = GRB.CONTINUOUS, name = [\"R\"+str(i) for i in range(1,4)]\n",
    "            + [\"p\"+str(i) for i in range(1,4)]\n",
    "            + [\"sl\"+str(i) for i in range(1,4)]\n",
    "            + [\"sm\"+str(i) for i in range(1,4)]\n",
    "            + [\"sh\"+str(i) for i in range(1,4)])\n",
    "\n",
    "X"
   ]
  },
  {
   "cell_type": "code",
   "execution_count": 65,
   "id": "5b9c4788",
   "metadata": {},
   "outputs": [],
   "source": [
    "# objective function\n",
    "\n",
    "Revenue = (pr[0]*sum(X[i+6]*sp[i] for i in range(3))) + (pr[1]*sum(X[i+9]*sp[i] for i in range(3))) + (pr[1]*sum(X[i+9]*sp[i] for i in range(3)))\n",
    "Cost = sum(Res_composition[j][3]*sum(Res_composition[j][i]*X[i+3] for i in range(3)) for j in range(3))\n",
    "\n",
    "UBS.setObjective(Revenue - Cost, GRB.MAXIMIZE)"
   ]
  },
  {
   "cell_type": "code",
   "execution_count": 66,
   "id": "06853dfb",
   "metadata": {},
   "outputs": [],
   "source": [
    "# Set constraints\n",
    "\n",
    "# Resource constraints\n",
    "\n",
    "UBS.addConstr(sum(Res_composition[0][i]*X[i+3] for i in range(3)) <= X[0])\n",
    "UBS.addConstr(sum(Res_composition[1][i]*X[i+3] for i in range(3)) <= X[1])\n",
    "UBS.addConstr(sum(Res_composition[2][i]*X[i+3] for i in range(3)) <= X[2])\n",
    "\n",
    "# sale cannot be more than demand\n",
    "\n",
    "for j in range(3):\n",
    "    UBS.addConstrs(X[i + 6 + 3 * j] <= dem[j][i] for i in range(3))\n",
    "    \n",
    "# sale cannot be more than produced\n",
    "\n",
    "for j in range(3):\n",
    "    UBS.addConstrs(X[i + 6 + 3 * j] <= X[i+3] for i in range(3))\n",
    "\n"
   ]
  },
  {
   "cell_type": "code",
   "execution_count": 67,
   "id": "9529d845",
   "metadata": {},
   "outputs": [
    {
     "name": "stdout",
     "output_type": "stream",
     "text": [
      "Gurobi Optimizer version 10.0.2 build v10.0.2rc0 (mac64[arm])\n",
      "\n",
      "CPU model: Apple M2\n",
      "Thread count: 8 physical cores, 8 logical processors, using up to 8 threads\n",
      "\n",
      "Optimize a model with 21 rows, 15 columns and 39 nonzeros\n",
      "Model fingerprint: 0x802d3af6\n",
      "Coefficient statistics:\n",
      "  Matrix range     [5e-01, 8e+00]\n",
      "  Objective range  [3e+00, 5e+01]\n",
      "  Bounds range     [0e+00, 0e+00]\n",
      "  RHS range        [2e+01, 5e+02]\n",
      "Presolve removed 19 rows and 12 columns\n",
      "Presolve time: 0.00s\n",
      "Presolved: 2 rows, 3 columns, 4 nonzeros\n",
      "\n",
      "Iteration    Objective       Primal Inf.    Dual Inf.      Time\n",
      "       0    2.5320000e+03   3.125000e+00   0.000000e+00      0s\n",
      "       1    2.5220000e+03   0.000000e+00   0.000000e+00      0s\n",
      "\n",
      "Solved in 1 iterations and 0.01 seconds (0.00 work units)\n",
      "Optimal objective  2.522000000e+03\n"
     ]
    }
   ],
   "source": [
    "UBS.optimize()"
   ]
  },
  {
   "cell_type": "code",
   "execution_count": 68,
   "id": "d85fb8ec",
   "metadata": {},
   "outputs": [
    {
     "name": "stdout",
     "output_type": "stream",
     "text": [
      "R1 = 2060\n",
      "R2 = 565\n",
      "R3 = 1120\n",
      "p1 = 150\n",
      "p2 = 110\n",
      "p3 = 200\n",
      "sl1 = 50\n",
      "sl2 = 20\n",
      "sl3 = 200\n",
      "sm1 = 150\n",
      "sm2 = 110\n",
      "sm3 = 200\n",
      "sh1 = 0\n",
      "sh2 = 0\n",
      "sh3 = 0\n"
     ]
    }
   ],
   "source": [
    "for v in UBS.getVars():\n",
    "    print(v.varName, \"=\", round(v.x))"
   ]
  },
  {
   "cell_type": "code",
   "execution_count": null,
   "id": "e71da7cc",
   "metadata": {},
   "outputs": [],
   "source": []
  },
  {
   "cell_type": "code",
   "execution_count": null,
   "id": "1f95bbc1",
   "metadata": {},
   "outputs": [],
   "source": []
  }
 ],
 "metadata": {
  "kernelspec": {
   "display_name": "Python 3 (ipykernel)",
   "language": "python",
   "name": "python3"
  },
  "language_info": {
   "codemirror_mode": {
    "name": "ipython",
    "version": 3
   },
   "file_extension": ".py",
   "mimetype": "text/x-python",
   "name": "python",
   "nbconvert_exporter": "python",
   "pygments_lexer": "ipython3",
   "version": "3.10.9"
  }
 },
 "nbformat": 4,
 "nbformat_minor": 5
}
