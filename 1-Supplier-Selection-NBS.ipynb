{
 "cells": [
  {
   "cell_type": "code",
   "execution_count": 97,
   "id": "f0c7dcdb",
   "metadata": {},
   "outputs": [
    {
     "data": {
      "text/plain": [
       "'\\n\\nDecision Variables:\\n[coal_procurment/mine]\\nXa\\nXb\\nXc\\nXe\\nXf\\nXg\\nXh\\n\\n\\nConstraints:\\n\\nTotal Coal Constraint: 1225 mt of coking coal\\n    summations Xi = 1225\\n    \\nVolatility Constraint: 19% average volatitlity\\n    sum([Volatility] x [xi] ) < =  sum([xi])*0.19\\n    \\nUnion Constraint: 50% coal to come from union mines\\n    [Union] x Xi = 0.50 sum[Xi]\\n\\nRail Constraint: <=650mt can be transported via rail /trucks\\n    [Rail] x Xi <= 650\\n\\n\\n'"
      ]
     },
     "execution_count": 97,
     "metadata": {},
     "output_type": "execute_result"
    }
   ],
   "source": [
    "#NBS steel production from coal\n",
    "\n",
    "\n",
    "\"\"\"\n",
    "\n",
    "Decision Variables:\n",
    "[coal_procurment/mine]\n",
    "Xa\n",
    "Xb\n",
    "Xc\n",
    "Xe\n",
    "Xf\n",
    "Xg\n",
    "Xh\n",
    "\n",
    "\n",
    "Constraints:\n",
    "\n",
    "Total Coal Constraint: 1225 mt of coking coal\n",
    "    summations Xi = 1225\n",
    "    \n",
    "Volatility Constraint: 19% average volatitlity\n",
    "    sum([Volatility] x [xi] ) < =  sum([xi])*0.19\n",
    "    \n",
    "Union Constraint: 50% coal to come from union mines\n",
    "    [Union] x Xi = 0.50 sum[Xi]\n",
    "\n",
    "Rail Constraint: <=650mt can be transported via rail /trucks\n",
    "    [Rail] x Xi <= 650\n",
    "\n",
    "\n",
    "\"\"\""
   ]
  },
  {
   "cell_type": "code",
   "execution_count": 98,
   "id": "da3bb8b5",
   "metadata": {},
   "outputs": [],
   "source": [
    "import gurobipy as gb\n",
    "from gurobipy import *"
   ]
  },
  {
   "cell_type": "code",
   "execution_count": 106,
   "id": "a9cae1f1",
   "metadata": {},
   "outputs": [],
   "source": [
    "prob = gb.Model(\"Supplier Selection Problem\")"
   ]
  },
  {
   "cell_type": "code",
   "execution_count": 107,
   "id": "1766f0d8",
   "metadata": {},
   "outputs": [],
   "source": [
    "Union      = [1, 1, 0, 1, 0, 1, 0, 0]\n",
    "Rail       = [1, 0, 1, 0, 0, 0, 1, 1]\n",
    "Truck      = [0, 1, 0, 1, 1, 1, 0, 0]\n",
    "Volatility = [0.15, 0.16, 0.18, 0.20, 0.21, 0.22, 0.23, 0.25]\n",
    "capacity   = [300, 600, 510, 655, 575, 680, 450, 490]\n",
    "price      = [49500, 50000, 61000, 63500, 66500, 71000, 72500, 80000]\n",
    "ubs        = [300, 600, 510,655,575, 680, 450,490]\n"
   ]
  },
  {
   "cell_type": "code",
   "execution_count": 108,
   "id": "30e6e40d",
   "metadata": {},
   "outputs": [],
   "source": [
    "#Decision Variables\n",
    "X = prob.addVars(8, vtype = GRB.CONTINUOUS,lb = 0, ub = [ ubs[i] for i in range(8)], name = ['x'+str(i) for i in range(8)])\n"
   ]
  },
  {
   "cell_type": "code",
   "execution_count": 109,
   "id": "64c9a8b0",
   "metadata": {},
   "outputs": [],
   "source": [
    "#Objective Funtion\n",
    "prob.setObjective(sum(X[i]*price[i] for i in range(8)), GRB.MINIMIZE)"
   ]
  },
  {
   "cell_type": "code",
   "execution_count": 110,
   "id": "d758a8ee",
   "metadata": {},
   "outputs": [
    {
     "data": {
      "text/plain": [
       "<gurobi.Constr *Awaiting Model Update*>"
      ]
     },
     "execution_count": 110,
     "metadata": {},
     "output_type": "execute_result"
    }
   ],
   "source": [
    "#Set Constraints\n",
    "\n",
    "prob.addConstr((sum(X[i]*(Union[i]-0.5) for i in range(8))) <= 0, name = \"Union Constraint\")\n",
    "prob.addConstr((sum(X[i]*Rail[i] for i in range(8))) <= 650, name = \"Rail Constraint\")\n",
    "prob.addConstr((sum(X[i]*Truck[i] for i in range(8))) <= 720, name = \"Truck Constraint\")\n",
    "prob.addConstr((sum(X[i]*(Volatility[i]-(0.19)) for i in range(8)) <= 0) , name = \"Volatility Constraint\")\n",
    "prob.addConstr(sum(X[i] for i in range(8)) == 1225)"
   ]
  },
  {
   "cell_type": "code",
   "execution_count": 111,
   "id": "b1742e15",
   "metadata": {},
   "outputs": [
    {
     "name": "stdout",
     "output_type": "stream",
     "text": [
      "Gurobi Optimizer version 10.0.2 build v10.0.2rc0 (mac64[arm])\n",
      "\n",
      "CPU model: Apple M2\n",
      "Thread count: 8 physical cores, 8 logical processors, using up to 8 threads\n",
      "\n",
      "Optimize a model with 5 rows, 8 columns and 32 nonzeros\n",
      "Model fingerprint: 0x67a5f5d5\n",
      "Coefficient statistics:\n",
      "  Matrix range     [1e-02, 1e+00]\n",
      "  Objective range  [5e+04, 8e+04]\n",
      "  Bounds range     [3e+02, 7e+02]\n",
      "  RHS range        [6e+02, 1e+03]\n",
      "Presolve time: 0.00s\n",
      "Presolved: 5 rows, 8 columns, 32 nonzeros\n",
      "\n",
      "Iteration    Objective       Primal Inf.    Dual Inf.      Time\n",
      "       0    6.0637500e+07   3.406250e+02   0.000000e+00      0s\n",
      "       4    6.8481250e+07   0.000000e+00   0.000000e+00      0s\n",
      "\n",
      "Solved in 4 iterations and 0.01 seconds (0.00 work units)\n",
      "Optimal objective  6.848125000e+07\n"
     ]
    }
   ],
   "source": [
    "prob.optimize()"
   ]
  },
  {
   "cell_type": "code",
   "execution_count": 113,
   "id": "8c2b9a8b",
   "metadata": {},
   "outputs": [
    {
     "name": "stdout",
     "output_type": "stream",
     "text": [
      "x0 = 140.0\n",
      "x1 = 472.5\n",
      "x2 = 510.0\n",
      "x3 = 0.0\n",
      "x4 = 102.5\n",
      "x5 = 0.0\n",
      "x6 = 0.0\n",
      "x7 = 0.0\n"
     ]
    }
   ],
   "source": [
    "for v in prob.getVars():\n",
    "    #if v.x > 0:\n",
    "        print(v.varName, \"=\", v.x)"
   ]
  },
  {
   "cell_type": "code",
   "execution_count": null,
   "id": "e7bedfe7",
   "metadata": {},
   "outputs": [],
   "source": []
  },
  {
   "cell_type": "code",
   "execution_count": null,
   "id": "567c66eb",
   "metadata": {},
   "outputs": [],
   "source": []
  },
  {
   "cell_type": "code",
   "execution_count": null,
   "id": "81f09a69",
   "metadata": {},
   "outputs": [],
   "source": []
  }
 ],
 "metadata": {
  "kernelspec": {
   "display_name": "Python 3 (ipykernel)",
   "language": "python",
   "name": "python3"
  },
  "language_info": {
   "codemirror_mode": {
    "name": "ipython",
    "version": 3
   },
   "file_extension": ".py",
   "mimetype": "text/x-python",
   "name": "python",
   "nbconvert_exporter": "python",
   "pygments_lexer": "ipython3",
   "version": "3.10.9"
  }
 },
 "nbformat": 4,
 "nbformat_minor": 5
}
